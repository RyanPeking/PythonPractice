{
 "cells": [
  {
   "cell_type": "markdown",
   "metadata": {},
   "source": [
    "range函数在python2和python3中有严重区别"
   ]
  },
  {
   "cell_type": "markdown",
   "metadata": {},
   "source": [
    "for-else语句\n",
    "    -当for循环结束的时候，会执行else语句\n",
    "    -else语句是可选语句"
   ]
  },
  {
   "cell_type": "code",
   "execution_count": 1,
   "metadata": {
    "scrolled": false
   },
   "outputs": [
    {
     "name": "stdout",
     "output_type": "stream",
     "text": [
      "zhang\n",
      "wu\n",
      "over\n"
     ]
    }
   ],
   "source": [
    "for name in ['zhang','wu']:\n",
    "    print(name)\n",
    "else:\n",
    "    print('over')"
   ]
  },
  {
   "cell_type": "markdown",
   "metadata": {},
   "source": [
    "-for循环中的变量表示，一般用i,k,m,n,或者indx，idx，item之类\n",
    "-在python中，如果循环变量名称不重要，可以用下划线_代替"
   ]
  }
 ],
 "metadata": {
  "kernelspec": {
   "display_name": "Python 3",
   "language": "python",
   "name": "python3"
  },
  "language_info": {
   "codemirror_mode": {
    "name": "ipython",
    "version": 3
   },
   "file_extension": ".py",
   "mimetype": "text/x-python",
   "name": "python",
   "nbconvert_exporter": "python",
   "pygments_lexer": "ipython3",
   "version": "3.6.3"
  }
 },
 "nbformat": 4,
 "nbformat_minor": 2
}
