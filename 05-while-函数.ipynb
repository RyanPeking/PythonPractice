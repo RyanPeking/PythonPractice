{
 "cells": [
  {
   "cell_type": "markdown",
   "metadata": {},
   "source": [
    "while-else同for-else"
   ]
  },
  {
   "cell_type": "code",
   "execution_count": 22,
   "metadata": {},
   "outputs": [
    {
     "name": "stdout",
     "output_type": "stream",
     "text": [
      "Help on built-in function print in module builtins:\n",
      "\n",
      "print(...)\n",
      "    print(value, ..., sep=' ', end='\\n', file=sys.stdout, flush=False)\n",
      "    \n",
      "    Prints the values to a stream, or to sys.stdout by default.\n",
      "    Optional keyword arguments:\n",
      "    file:  a file-like object (stream); defaults to the current sys.stdout.\n",
      "    sep:   string inserted between values, default a space.\n",
      "    end:   string appended after the last value, default a newline.\n",
      "    flush: whether to forcibly flush the stream.\n",
      "\n",
      "Help on built-in function format in module builtins:\n",
      "\n",
      "format(value, format_spec='', /)\n",
      "    Return value.__format__(format_spec)\n",
      "    \n",
      "    format_spec defaults to the empty string.\n",
      "    See the Format Specification Mini-Language section of help('FORMATTING') for\n",
      "    details.\n",
      "\n"
     ]
    }
   ],
   "source": [
    "#查找函数帮助文档\n",
    "#1.用help函数\n",
    "help(print)\n",
    "help(format)"
   ]
  },
  {
   "cell_type": "code",
   "execution_count": 28,
   "metadata": {},
   "outputs": [
    {
     "name": "stdout",
     "output_type": "stream",
     "text": [
      "1 * 1 = 1        \n",
      "---------------------------------------------------------------\n",
      "2 * 1 = 2  2 * 2 = 4        \n",
      "---------------------------------------------------------------\n",
      "3 * 1 = 3  3 * 2 = 6  3 * 3 = 9        \n",
      "---------------------------------------------------------------\n",
      "4 * 1 = 4  4 * 2 = 8  4 * 3 = 12 4 * 4 = 16       \n",
      "---------------------------------------------------------------\n",
      "5 * 1 = 5  5 * 2 = 10 5 * 3 = 15 5 * 4 = 20 5 * 5 = 25       \n",
      "---------------------------------------------------------------\n",
      "6 * 1 = 6  6 * 2 = 12 6 * 3 = 18 6 * 4 = 24 6 * 5 = 30 6 * 6 = 36       \n",
      "---------------------------------------------------------------\n",
      "7 * 1 = 7  7 * 2 = 14 7 * 3 = 21 7 * 4 = 28 7 * 5 = 35 7 * 6 = 42 7 * 7 = 49       \n",
      "---------------------------------------------------------------\n",
      "8 * 1 = 8  8 * 2 = 16 8 * 3 = 24 8 * 4 = 32 8 * 5 = 40 8 * 6 = 48 8 * 7 = 56 8 * 8 = 64       \n",
      "---------------------------------------------------------------\n",
      "9 * 1 = 9  9 * 2 = 18 9 * 3 = 27 9 * 4 = 36 9 * 5 = 45 9 * 6 = 54 9 * 7 = 63 9 * 8 = 72 9 * 9 = 81       \n",
      "---------------------------------------------------------------\n"
     ]
    }
   ],
   "source": [
    "#九九乘法表\n",
    "\n",
    "for row in range(1,10):\n",
    "    #打印一行\n",
    "    #print(\"{0} -- a line\".format(row))\n",
    "    for col in range(1, row+1):\n",
    "        #print函数默认任务打印完毕后换行\n",
    "        print('{0:<2}* {1:<2}= {2:<2}'.format(row, col, row*col), end = ' ')\n",
    "    print('      ')\n",
    "    print(\"---------------------------------------------------------------\")"
   ]
  },
  {
   "cell_type": "code",
   "execution_count": 29,
   "metadata": {
    "scrolled": true
   },
   "outputs": [
    {
     "name": "stdout",
     "output_type": "stream",
     "text": [
      "1 * 1 = 1        \n",
      "---------------------------------------------------------------\n",
      "2 * 1 = 2  2 * 2 = 4        \n",
      "---------------------------------------------------------------\n",
      "3 * 1 = 3  3 * 2 = 6  3 * 3 = 9        \n",
      "---------------------------------------------------------------\n",
      "4 * 1 = 4  4 * 2 = 8  4 * 3 = 12 4 * 4 = 16       \n",
      "---------------------------------------------------------------\n",
      "5 * 1 = 5  5 * 2 = 10 5 * 3 = 15 5 * 4 = 20 5 * 5 = 25       \n",
      "---------------------------------------------------------------\n",
      "6 * 1 = 6  6 * 2 = 12 6 * 3 = 18 6 * 4 = 24 6 * 5 = 30 6 * 6 = 36       \n",
      "---------------------------------------------------------------\n",
      "7 * 1 = 7  7 * 2 = 14 7 * 3 = 21 7 * 4 = 28 7 * 5 = 35 7 * 6 = 42 7 * 7 = 49       \n",
      "---------------------------------------------------------------\n",
      "8 * 1 = 8  8 * 2 = 16 8 * 3 = 24 8 * 4 = 32 8 * 5 = 40 8 * 6 = 48 8 * 7 = 56 8 * 8 = 64       \n",
      "---------------------------------------------------------------\n",
      "9 * 1 = 9  9 * 2 = 18 9 * 3 = 27 9 * 4 = 36 9 * 5 = 45 9 * 6 = 54 9 * 7 = 63 9 * 8 = 72 9 * 9 = 81       \n",
      "---------------------------------------------------------------\n"
     ]
    }
   ],
   "source": [
    "#定义一个函数，打印一行九九乘法表\n",
    "def print_line(row):\n",
    "    for col in range(1, row+1):\n",
    "        #print函数默认任务打印完毕后换行\n",
    "        print('{0:<2}* {1:<2}= {2:<2}'.format(row, col, row*col), end = ' ')\n",
    "    print('      ')\n",
    "    print(\"---------------------------------------------------------------\")\n",
    "\n",
    "for row in range(1,10):\n",
    "    print_line(row)"
   ]
  },
  {
   "cell_type": "markdown",
   "metadata": {},
   "source": [
    "##参数详解\n",
    "-[参考资料]（https://www.cnblogs.com/bingabcd/p/6671368.html）\n",
    "-python参考资料：headfirst python ->零基础入门学习python（小甲鱼），本讲义参考的是流畅的python->习题->后期可以考虑腾讯公开免费课\n",
    "-参数分类\n",
    "    -普通参数\n",
    "    -默认参数\n",
    "    -关键字参数\n",
    "    -收集参数\n",
    "    \n",
    "-普通参数\n",
    "    -参加上例\n",
    "        def 函数名（参数1，参数2，.....):\n",
    "            函数体\n",
    "        \n",
    "        #调用\n",
    "        函数名（value1，value2，........)\n",
    "        \n",
    "        #调用的时候，具体值参考的是位置，按位置赋值\n",
    "        \n",
    "-默认参数\n",
    "    -形参带有默认值\n",
    "        def func_name(p1=v1,p2=v2,.........):\n",
    "            func_block\n",
    "        \n",
    "        #调用1\n",
    "        func_name()\n",
    "        \n",
    "        #调用2\n",
    "        value1=100\n",
    "        value2=200\n",
    "        func_name(value1,value2)\n",
    "    \n"
   ]
  },
  {
   "cell_type": "code",
   "execution_count": 49,
   "metadata": {
    "scrolled": true
   },
   "outputs": [
    {
     "name": "stdout",
     "output_type": "stream",
     "text": [
      "su 1\n",
      "1\n"
     ]
    }
   ],
   "source": [
    "def test(name, sex):\n",
    "    print(name,sex)\n",
    "    print(sex)\n",
    "\n",
    "#test(name='su','1')\n",
    "test(name='su',sex = '1')\n",
    "    \n"
   ]
  },
  {
   "cell_type": "code",
   "execution_count": 52,
   "metadata": {},
   "outputs": [
    {
     "name": "stdout",
     "output_type": "stream",
     "text": [
      "mingyue is 21, and he is a good student\n",
      "xiaojing is 23, and she is a good student\n"
     ]
    }
   ],
   "source": [
    "#默认参数示例\n",
    "#报名函数，需要知道学生性别\n",
    "#学习python的学生基本都是男生，所以，报名的时候如果没有特别指定，我们认为都是男生\n",
    "def reg(name, age, gender=\"male\"):\n",
    "    if gender == \"male\":\n",
    "        print(\"{0} is {1}, and he is a good student\".format(name, age))\n",
    "    else:\n",
    "        print(\"{0} is {1}, and she is a good student\".format(name, age))\n",
    "        \n",
    "#调用默认参数函数案例1\n",
    "\n",
    "reg(\"mingyue\", 21)\n",
    "reg(\"xiaojing\", 23, \"female\")\n",
    "    "
   ]
  }
 ],
 "metadata": {
  "kernelspec": {
   "display_name": "Python 3",
   "language": "python",
   "name": "python3"
  },
  "language_info": {
   "codemirror_mode": {
    "name": "ipython",
    "version": 3
   },
   "file_extension": ".py",
   "mimetype": "text/x-python",
   "name": "python",
   "nbconvert_exporter": "python",
   "pygments_lexer": "ipython3",
   "version": "3.6.3"
  }
 },
 "nbformat": 4,
 "nbformat_minor": 2
}
