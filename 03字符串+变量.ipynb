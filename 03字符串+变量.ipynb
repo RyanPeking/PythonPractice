{
 "cells": [
  {
   "cell_type": "code",
   "execution_count": 4,
   "metadata": {
    "scrolled": true
   },
   "outputs": [
    {
     "name": "stdout",
     "output_type": "stream",
     "text": [
      "hdja\n",
      "dfhjk\n",
      "jdfa\r\n",
      "dfjak\n"
     ]
    }
   ],
   "source": [
    "print('hdja\\ndfhjk')\n",
    "print('jdfa\\r\\ndfjak')"
   ]
  },
  {
   "cell_type": "markdown",
   "metadata": {},
   "source": [
    "-不同系统对换行操作有不同的表示\n",
    "    -windows：\\n\n",
    "    -Linux:\\r\\n"
   ]
  },
  {
   "cell_type": "markdown",
   "metadata": {},
   "source": [
    "-字符串的格式化：\n",
    "    -百分号\n",
    "    -format(推荐)"
   ]
  },
  {
   "cell_type": "code",
   "execution_count": 7,
   "metadata": {
    "scrolled": true
   },
   "outputs": [
    {
     "name": "stdout",
     "output_type": "stream",
     "text": [
      "kdjf1\n"
     ]
    }
   ],
   "source": [
    "a = 1\n",
    "print(\"kdjf%s\"%a)"
   ]
  },
  {
   "cell_type": "code",
   "execution_count": 11,
   "metadata": {
    "scrolled": true
   },
   "outputs": [
    {
     "name": "stdout",
     "output_type": "stream",
     "text": [
      "I love lixiaojing\n",
      "i am 18 years old, i love 0 and i am 18 years old\n"
     ]
    }
   ],
   "source": [
    "s = \"I love {}\".format(\"lixiaojing\")\n",
    "print(s)\n",
    "s = \"i am {1} years old, i love {0} and i am {1} years old\".format(\"0\", 18)\n",
    "print(s)"
   ]
  },
  {
   "cell_type": "code",
   "execution_count": 14,
   "metadata": {},
   "outputs": [
    {
     "name": "stdout",
     "output_type": "stream",
     "text": [
      "2\n",
      "2.25\n",
      "6561\n"
     ]
    }
   ],
   "source": [
    "a = 9//4\n",
    "print(a)\n",
    "a = 9/4\n",
    "print(a)\n",
    "a = 9**4\n",
    "print(a)"
   ]
  },
  {
   "cell_type": "markdown",
   "metadata": {},
   "source": [
    "python没有自增自减运算\n",
    "python中逻辑运算没有异或运算"
   ]
  },
  {
   "cell_type": "markdown",
   "metadata": {},
   "source": [
    "##运算符的优先级问题\n",
    "    -优先级表格\n",
    "        **\n",
    "        ~+-\n",
    "        */%//\n",
    "        +-\n",
    "        >><<\n",
    "        &\n",
    "        ^|\n",
    "        <=<>\n",
    "        "
   ]
  }
 ],
 "metadata": {
  "kernelspec": {
   "display_name": "Python 3",
   "language": "python",
   "name": "python3"
  },
  "language_info": {
   "codemirror_mode": {
    "name": "ipython",
    "version": 3
   },
   "file_extension": ".py",
   "mimetype": "text/x-python",
   "name": "python",
   "nbconvert_exporter": "python",
   "pygments_lexer": "ipython3",
   "version": "3.6.3"
  }
 },
 "nbformat": 4,
 "nbformat_minor": 2
}
