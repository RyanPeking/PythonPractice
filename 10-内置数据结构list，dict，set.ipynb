{
 "cells": [
  {
   "cell_type": "markdown",
   "metadata": {},
   "source": [
    "# 关于元组的函数\n",
    "- 以下看代码\n"
   ]
  },
  {
   "cell_type": "markdown",
   "metadata": {},
   "source": [
    "# 元组变量交换法\n",
    "- 两个变量交换值"
   ]
  },
  {
   "cell_type": "code",
   "execution_count": 1,
   "metadata": {
    "scrolled": true
   },
   "outputs": [
    {
     "name": "stdout",
     "output_type": "stream",
     "text": [
      "1\n",
      "3\n",
      "********************\n",
      "3\n",
      "1\n",
      "********************\n",
      "1\n",
      "3\n"
     ]
    }
   ],
   "source": [
    "# 两个变量交换值\n",
    "a = 1\n",
    "b = 3\n",
    "\n",
    "print(a)\n",
    "print(b)\n",
    "print(\"*\" * 20)\n",
    "#java程序员会这么写：\n",
    "c = a\n",
    "a = b\n",
    "b = c\n",
    "print(a)\n",
    "print(b)\n",
    "\n",
    "print(\"*\" * 20)\n",
    "# python的写法\n",
    "a, b = b, a\n",
    "print(a)\n",
    "print(b)"
   ]
  },
  {
   "cell_type": "markdown",
   "metadata": {},
   "source": [
    "# 集合-set\n",
    "- 集合是高中数学中的一个概念\n",
    "- 一堆确定的无序的唯一的数据，集合中每一个数据成为一个元素\n"
   ]
  },
  {
   "cell_type": "code",
   "execution_count": 2,
   "metadata": {},
   "outputs": [
    {
     "name": "stdout",
     "output_type": "stream",
     "text": [
      "<class 'set'>\n",
      "set()\n",
      "{1, 2, 3, 4, 5, 6, 7}\n"
     ]
    }
   ],
   "source": [
    "# 集合的定义\n",
    "s = set()\n",
    "print(type(s))\n",
    "print(s)\n",
    "\n",
    "# 此时，大括号内一定要有值，否则定义出的是一个dict\n",
    "s = {1, 2, 3, 4, 5, 6, 7}\n",
    "print(s)"
   ]
  },
  {
   "cell_type": "code",
   "execution_count": 3,
   "metadata": {},
   "outputs": [
    {
     "name": "stdout",
     "output_type": "stream",
     "text": [
      "<class 'dict'>\n",
      "{}\n"
     ]
    }
   ],
   "source": [
    "# 如果只是用大括号定义，则定义的是一个dict类型\n",
    "d = {}\n",
    "print(type(d))\n",
    "print(d)"
   ]
  },
  {
   "cell_type": "markdown",
   "metadata": {},
   "source": [
    "# 集合的特征\n",
    "- 集合内数据无序，即无法使用索引和分片\n",
    "- 集合内部数据元素具有唯一性，可以用来排除重复数据\n",
    "- 集合内的数据，str, int, float, tuple,冰冻集合等，即内部只能放置可哈希数据（即不可改变的数据结构）"
   ]
  },
  {
   "cell_type": "markdown",
   "metadata": {},
   "source": [
    "# 集合序列操作\n"
   ]
  },
  {
   "cell_type": "code",
   "execution_count": 4,
   "metadata": {},
   "outputs": [
    {
     "name": "stdout",
     "output_type": "stream",
     "text": [
      "{'love', 'wangxiaojing', 4, 5, 'i'}\n",
      "真爱\n",
      "aige\n"
     ]
    }
   ],
   "source": [
    "# 成员检测\n",
    "# in, not in\n",
    "s = {4,5,\"i\", \"love\", \"wangxiaojing\"}\n",
    "print(s)\n",
    "\n",
    "if \"love\" in s:\n",
    "    print(\"真爱\")\n",
    "    \n",
    "if \"haha\" not in s:\n",
    "    print(\"aige\")"
   ]
  },
  {
   "cell_type": "markdown",
   "metadata": {},
   "source": [
    "# 集合遍历操作\n"
   ]
  },
  {
   "cell_type": "code",
   "execution_count": 5,
   "metadata": {},
   "outputs": [
    {
     "name": "stdout",
     "output_type": "stream",
     "text": [
      "love wangxiaojing 4 5 i "
     ]
    }
   ],
   "source": [
    "# for 循环\n",
    "s = {4,5,\"i\", \"love\", \"wangxiaojing\"}\n",
    "\n",
    "for i in s:\n",
    "    print(i, end = \" \")"
   ]
  },
  {
   "cell_type": "code",
   "execution_count": 8,
   "metadata": {
    "scrolled": true
   },
   "outputs": [
    {
     "ename": "TypeError",
     "evalue": "unhashable type: 'set'",
     "traceback": [
      "\u001b[0;31m---------------------------------------------------------------------------\u001b[0m",
      "\u001b[0;31mTypeError\u001b[0m                                 Traceback (most recent call last)",
      "\u001b[0;32m<ipython-input-8-308a1ccb7940>\u001b[0m in \u001b[0;36m<module>\u001b[0;34m()\u001b[0m\n\u001b[1;32m      1\u001b[0m \u001b[0;31m# 带有元组的集合遍历\u001b[0m\u001b[0;34m\u001b[0m\u001b[0;34m\u001b[0m\u001b[0m\n\u001b[0;32m----> 2\u001b[0;31m \u001b[0ms\u001b[0m \u001b[0;34m=\u001b[0m \u001b[0;34m{\u001b[0m\u001b[0;34m(\u001b[0m\u001b[0;36m1\u001b[0m\u001b[0;34m,\u001b[0m\u001b[0;36m2\u001b[0m\u001b[0;34m,\u001b[0m\u001b[0;36m3\u001b[0m\u001b[0;34m)\u001b[0m\u001b[0;34m,\u001b[0m \u001b[0;34m{\u001b[0m\u001b[0;34m\"i\"\u001b[0m\u001b[0;34m,\u001b[0m \u001b[0;34m\"love\"\u001b[0m\u001b[0;34m,\u001b[0m \u001b[0;34m\"wangxiaojing\"\u001b[0m\u001b[0;34m}\u001b[0m\u001b[0;34m,\u001b[0m \u001b[0;34m{\u001b[0m\u001b[0;36m4\u001b[0m\u001b[0;34m,\u001b[0m \u001b[0;36m5\u001b[0m\u001b[0;34m,\u001b[0m \u001b[0;36m6\u001b[0m\u001b[0;34m}\u001b[0m\u001b[0;34m}\u001b[0m\u001b[0;34m\u001b[0m\u001b[0m\n\u001b[0m\u001b[1;32m      3\u001b[0m \u001b[0;34m\u001b[0m\u001b[0m\n\u001b[1;32m      4\u001b[0m \u001b[0;32mfor\u001b[0m \u001b[0mk\u001b[0m\u001b[0;34m,\u001b[0m\u001b[0mm\u001b[0m\u001b[0;34m,\u001b[0m\u001b[0mn\u001b[0m \u001b[0;32min\u001b[0m \u001b[0ms\u001b[0m\u001b[0;34m:\u001b[0m\u001b[0;34m\u001b[0m\u001b[0m\n\u001b[1;32m      5\u001b[0m     \u001b[0mprint\u001b[0m\u001b[0;34m(\u001b[0m\u001b[0mk\u001b[0m\u001b[0;34m,\u001b[0m \u001b[0;34m\"--\"\u001b[0m\u001b[0;34m,\u001b[0m \u001b[0mm\u001b[0m\u001b[0;34m,\u001b[0m \u001b[0;34m\"--\"\u001b[0m\u001b[0;34m,\u001b[0m \u001b[0mn\u001b[0m\u001b[0;34m)\u001b[0m\u001b[0;34m\u001b[0m\u001b[0m\n",
      "\u001b[0;31mTypeError\u001b[0m: unhashable type: 'set'"
     ],
     "output_type": "error"
    }
   ],
   "source": [
    "# 带有元组的集合遍历\n",
    "s = {(1,2,3), {\"i\", \"love\", \"wangxiaojing\"}, {4, 5, 6}}\n",
    "\n",
    "for k,m,n in s:\n",
    "    print(k, \"--\", m, \"--\", n)\n",
    "    \n",
    "for k in s:\n",
    "    print(k)"
   ]
  },
  {
   "cell_type": "code",
   "execution_count": 9,
   "metadata": {},
   "outputs": [
    {
     "name": "stdout",
     "output_type": "stream",
     "text": [
      "i -- love -- wangxiaojing\n",
      "4 -- 5 -- 6\n",
      "1 -- 2 -- 3\n",
      "('i', 'love', 'wangxiaojing')\n",
      "(4, 5, 6)\n",
      "(1, 2, 3)\n"
     ]
    }
   ],
   "source": [
    "# 带有元组的集合遍历\n",
    "s = {(1,2,3), (\"i\", \"love\", \"wangxiaojing\"), (4, 5, 6)}\n",
    "\n",
    "for k,m,n in s:\n",
    "    print(k, \"--\", m, \"--\", n)\n",
    "    \n",
    "for k in s:\n",
    "    print(k)"
   ]
  },
  {
   "cell_type": "markdown",
   "metadata": {},
   "source": [
    "# 集合的内涵\n"
   ]
  },
  {
   "cell_type": "code",
   "execution_count": 13,
   "metadata": {},
   "outputs": [
    {
     "name": "stdout",
     "output_type": "stream",
     "text": [
      "{545, 2, 3, 34, 4, 43, 23, 223}\n",
      "{545, 2, 3, 34, 4, 43, 23, 223}\n"
     ]
    }
   ],
   "source": [
    "# 普通集合内涵\n",
    "# 以下集合在初始化后自动过滤掉重复元素\n",
    "s = {23,223,545,3,2,23,2,2,3,34,4,43,2,2}\n",
    "print(s)\n",
    "\n",
    "# 普通集合内涵\n",
    "ss = {i for i in s}\n",
    "print(ss)"
   ]
  },
  {
   "cell_type": "code",
   "execution_count": 15,
   "metadata": {},
   "outputs": [
    {
     "name": "stdout",
     "output_type": "stream",
     "text": [
      "{2, 34, 4}\n"
     ]
    }
   ],
   "source": [
    "# 带条件的集合内涵\n",
    "sss = {i for i in s if i % 2 == 0}\n",
    "print(sss)"
   ]
  },
  {
   "cell_type": "code",
   "execution_count": 18,
   "metadata": {},
   "outputs": [
    {
     "name": "stdout",
     "output_type": "stream",
     "text": [
      "{'love', 'wangxiaojingwangxiaojing', 'wangxiaojing', 'lovelovelove', 'lovelovelovelove', 'iiii', 'wangxiaojingwangxiaojingwangxiaojingwangxiaojing', 'i', 'ii', 'iii', 'wangxiaojingwangxiaojingwangxiaojing', 'lovelove'}\n",
      "{'wangxiaojingwangxiaojing', 'ii', 'lovelove'}\n"
     ]
    }
   ],
   "source": [
    "# 多循环的集合内涵\n",
    "s1 = {1,2,3,4}\n",
    "s2 = {\"i\", \"love\", \"wangxiaojing\"}\n",
    "\n",
    "s = {m*n for m in s1 for n in s2}\n",
    "print(s)\n",
    "\n",
    "s = {m*n for m in s1 for n in s2 if m==2}\n",
    "print(s)"
   ]
  },
  {
   "cell_type": "markdown",
   "metadata": {},
   "source": [
    "# 集合函数/关于集合的函数"
   ]
  },
  {
   "cell_type": "code",
   "execution_count": 19,
   "metadata": {},
   "outputs": [
    {
     "name": "stdout",
     "output_type": "stream",
     "text": [
      "3\n",
      "43\n",
      "8\n"
     ]
    }
   ],
   "source": [
    "# len, max, min:跟其他基本函数一致\n",
    "s = {43,34,34,34,8}\n",
    "print(len(s))\n",
    "print(max(s))\n",
    "print(min(s))"
   ]
  },
  {
   "cell_type": "code",
   "execution_count": 20,
   "metadata": {},
   "outputs": [
    {
     "name": "stdout",
     "output_type": "stream",
     "text": [
      "{1, 2, 3, 4, 5}\n"
     ]
    }
   ],
   "source": [
    "# set:生成一个集合\n",
    "l = [1,2,3,4,5,5]\n",
    "s = set(l)\n",
    "print(s)"
   ]
  },
  {
   "cell_type": "code",
   "execution_count": 21,
   "metadata": {},
   "outputs": [
    {
     "name": "stdout",
     "output_type": "stream",
     "text": [
      "{1, 334}\n"
     ]
    }
   ],
   "source": [
    "# add:向集合内添加元素\n",
    "s = {1}\n",
    "s.add(334)\n",
    "print(s)"
   ]
  },
  {
   "cell_type": "code",
   "execution_count": 22,
   "metadata": {},
   "outputs": [
    {
     "name": "stdout",
     "output_type": "stream",
     "text": [
      "140005534298408\n",
      "140005534298408\n"
     ]
    }
   ],
   "source": [
    "#clear\n",
    "s = {1,2,3,4,5}\n",
    "print(id(s))\n",
    "s.clear()\n",
    "print(id(s))\n",
    "# 结果表明clear函数是原地清空数据"
   ]
  },
  {
   "cell_type": "code",
   "execution_count": 26,
   "metadata": {
    "scrolled": true
   },
   "outputs": [
    {
     "name": "stdout",
     "output_type": "stream",
     "text": [
      "[23, 23, 34, 5, 6, 4, 4]\n"
     ]
    },
    {
     "ename": "AttributeError",
     "evalue": "'list' object has no attribute 'discard'",
     "traceback": [
      "\u001b[0;31m---------------------------------------------------------------------------\u001b[0m",
      "\u001b[0;31mAttributeError\u001b[0m                            Traceback (most recent call last)",
      "\u001b[0;32m<ipython-input-26-c5719bf6df05>\u001b[0m in \u001b[0;36m<module>\u001b[0;34m()\u001b[0m\n\u001b[1;32m      6\u001b[0m \u001b[0ms\u001b[0m\u001b[0;34m.\u001b[0m\u001b[0mremove\u001b[0m\u001b[0;34m(\u001b[0m\u001b[0;36m4\u001b[0m\u001b[0;34m)\u001b[0m\u001b[0;34m\u001b[0m\u001b[0m\n\u001b[1;32m      7\u001b[0m \u001b[0mprint\u001b[0m\u001b[0;34m(\u001b[0m\u001b[0ms\u001b[0m\u001b[0;34m)\u001b[0m\u001b[0;34m\u001b[0m\u001b[0m\n\u001b[0;32m----> 8\u001b[0;31m \u001b[0ms\u001b[0m\u001b[0;34m.\u001b[0m\u001b[0mdiscard\u001b[0m\u001b[0;34m(\u001b[0m\u001b[0;36m5\u001b[0m\u001b[0;34m)\u001b[0m\u001b[0;34m\u001b[0m\u001b[0m\n\u001b[0m\u001b[1;32m      9\u001b[0m \u001b[0mprint\u001b[0m\u001b[0;34m(\u001b[0m\u001b[0ms\u001b[0m\u001b[0;34m)\u001b[0m\u001b[0;34m\u001b[0m\u001b[0m\n\u001b[1;32m     10\u001b[0m \u001b[0;34m\u001b[0m\u001b[0m\n",
      "\u001b[0;31mAttributeError\u001b[0m: 'list' object has no attribute 'discard'"
     ],
     "output_type": "error"
    }
   ],
   "source": [
    "# copy:拷贝\n",
    "# remove：移除指定的值，直接改变原有值，如果要删除的值不存在，报错\n",
    "# discard:移除集合中指定的值，跟remove一样，但是删除的值不存在，不报错\n",
    "\n",
    "s = {23,23,34,5,6,4,4,4}\n",
    "s.remove(4)\n",
    "print(s)\n",
    "s.discard(5)\n",
    "print(s)\n",
    "\n",
    "print(\"*\" * 20)\n",
    "s.discard(100)\n",
    "print(s)\n",
    "\n",
    "s.remove(100)\n",
    "print(s)"
   ]
  },
  {
   "cell_type": "code",
   "execution_count": 25,
   "metadata": {},
   "outputs": [
    {
     "name": "stdout",
     "output_type": "stream",
     "text": [
      "1\n",
      "{2, 3, 4, 5, 6, 7}\n"
     ]
    }
   ],
   "source": [
    "# pop 随机移除一个元素\n",
    "s = {1,2,3,4,4,5,5,6,6,7}\n",
    "d = s.pop()\n",
    "print(d)\n",
    "print(s)"
   ]
  },
  {
   "cell_type": "code",
   "execution_count": 30,
   "metadata": {},
   "outputs": [
    {
     "name": "stdout",
     "output_type": "stream",
     "text": [
      "{5, 6}\n",
      "{1, 2, 3, 4}\n",
      "False\n"
     ]
    }
   ],
   "source": [
    "# 集合函数\n",
    "# intersection：交集\n",
    "# difference：差集\n",
    "# union：并集\n",
    "# issubset:检查一个集合是否是另一个子集\n",
    "# issuperset：检查一个集合是否为另一个超集\n",
    "s1 = {1,2,3,4,5,6}\n",
    "s2 = {5,6,7,8,9}\n",
    "\n",
    "s_1 = s1.intersection(s2)\n",
    "print(s_1)\n",
    "\n",
    "s_2 = s1.difference(s2)\n",
    "print(s_2)\n",
    "\n",
    "s_3 = s1.issubset(s2)\n",
    "print(s_3)"
   ]
  },
  {
   "cell_type": "code",
   "execution_count": 31,
   "metadata": {},
   "outputs": [
    {
     "name": "stdout",
     "output_type": "stream",
     "text": [
      "{1, 2, 3, 4}\n"
     ]
    }
   ],
   "source": [
    "# 集合的数学操作\n",
    "s1 = {1,2,3,4,5,6}\n",
    "s2 = {5,6,7,8,9}\n",
    " \n",
    "s_1 = s1 - s2\n",
    "print(s_1)\n",
    "\n",
    "# +不支持"
   ]
  },
  {
   "cell_type": "markdown",
   "metadata": {},
   "source": [
    "# frozen set：冰冻集合\n",
    "- 冰冻就是不可以进行任何修改的集合\n",
    "- frozenset是一种特殊集合"
   ]
  },
  {
   "cell_type": "code",
   "execution_count": 33,
   "metadata": {
    "scrolled": true
   },
   "outputs": [
    {
     "name": "stdout",
     "output_type": "stream",
     "text": [
      "frozenset()\n",
      "<class 'frozenset'>\n"
     ]
    }
   ],
   "source": [
    "# 创建\n",
    "s = frozenset()\n",
    "print(s)\n",
    "print(type(s))"
   ]
  },
  {
   "cell_type": "markdown",
   "metadata": {},
   "source": [
    "# dict字典\n",
    "- 字典是一种组合数据，没有顺序的组合数据，数值以键值对形式出现"
   ]
  },
  {
   "cell_type": "code",
   "execution_count": 40,
   "metadata": {
    "scrolled": true
   },
   "outputs": [
    {
     "name": "stdout",
     "output_type": "stream",
     "text": [
      "{}\n",
      "<class 'dict'>\n",
      "{}\n",
      "{'one': 1, 'two': 2, 'three': 3}\n",
      "{'one': 1, 'two': 2, 'three': 3}\n",
      "{'one': 1, 'two': 2, 'three': 3}\n"
     ]
    }
   ],
   "source": [
    "# 字典的创建\n",
    "d = {}\n",
    "print(d)\n",
    "print(type(d))\n",
    "\n",
    "d = dict()\n",
    "print(d)\n",
    "\n",
    "d = {\"one\":1, \"two\":2, \"three\":3}\n",
    "print(d)\n",
    "\n",
    "d = dict(one=1, two=2, three=3)\n",
    "print(d)\n",
    "\n",
    "\n",
    "d = dict([(\"one\", 1), (\"two\", 2), (\"three\", 3)])\n",
    "print(d)"
   ]
  },
  {
   "cell_type": "markdown",
   "metadata": {},
   "source": [
    "# 字典的特征\n",
    "- 字典是序列类型，但是是无序序列，所以没有分片和索引\n",
    "- 字典中的数据每个都由键值对组成，即kv对\n",
    "    - key: 必须是可哈希的值，比如int，string，float，tuple，但是，list，set，dict不行\n",
    "    - value：任何值"
   ]
  },
  {
   "cell_type": "markdown",
   "metadata": {},
   "source": [
    "# 字典常见操作"
   ]
  },
  {
   "cell_type": "code",
   "execution_count": 43,
   "metadata": {},
   "outputs": [
    {
     "name": "stdout",
     "output_type": "stream",
     "text": [
      "1\n",
      "{'one': 'enis', 'two': 2, 'three': 3}\n",
      "{'two': 2, 'three': 3}\n"
     ]
    }
   ],
   "source": [
    "# 访问数据\n",
    "d = {\"one\":1, \"two\":2, \"three\":3}\n",
    "# 注意访问格式\n",
    "# 中括号内是键值\n",
    "print(d[\"one\"])\n",
    "\n",
    "d[\"one\"] = \"enis\"\n",
    "print(d)\n",
    "\n",
    "# 删除某个操作\n",
    "# 使用del操作\n",
    "del d[\"one\"]\n",
    "print(d)"
   ]
  },
  {
   "cell_type": "code",
   "execution_count": 44,
   "metadata": {},
   "outputs": [
    {
     "name": "stdout",
     "output_type": "stream",
     "text": [
      "key\n"
     ]
    }
   ],
   "source": [
    "# 成员检测，in, not in\n",
    "# 成员检测检测的是key内容\n",
    "d = {\"one\":1, \"two\":2, \"three\":3}\n",
    "\n",
    "if 2 in d:\n",
    "    print(\"value\")\n",
    "\n",
    "if \"two\" in d:\n",
    "    print(\"key\")\n",
    "    \n",
    "if (\"two\", 2) in d:\n",
    "    print(\"kv\")"
   ]
  },
  {
   "cell_type": "code",
   "execution_count": 54,
   "metadata": {},
   "outputs": [
    {
     "name": "stdout",
     "output_type": "stream",
     "text": [
      "one 1\n",
      "two 2\n",
      "three 3\n",
      "one 1\n",
      "two 2\n",
      "three 3\n",
      "1\n",
      "2\n",
      "3\n",
      "one 1\n",
      "two 2\n",
      "three 3\n"
     ]
    }
   ],
   "source": [
    "# 遍历在python2和3中区别较大，代码不通用\n",
    "# 按key来使用for循环\n",
    "d = {\"one\":1, \"two\":2, \"three\":3}\n",
    "# 使用for循环，直接key值访问\n",
    "for k in d:\n",
    "    print(k, d[k])\n",
    "    \n",
    "# 上述代码可以改写成如下\n",
    "for k in d.keys():\n",
    "    print(k, d[k])\n",
    "    \n",
    "# 只访问字典的值\n",
    "for v in d.values():\n",
    "    print(v)\n",
    "    \n",
    "# 注意以下特殊用法\n",
    "for k,v in d.items():\n",
    "    print(k, v)"
   ]
  },
  {
   "cell_type": "markdown",
   "metadata": {},
   "source": [
    "# 字典生成式"
   ]
  },
  {
   "cell_type": "code",
   "execution_count": 57,
   "metadata": {},
   "outputs": [
    {
     "name": "stdout",
     "output_type": "stream",
     "text": [
      "{'one': 1, 'two': 2, 'three': 3}\n",
      "{'two': 2}\n"
     ]
    }
   ],
   "source": [
    "d = {\"one\":1, \"two\":2, \"three\":3}\n",
    "\n",
    "# 常规字典生成式\n",
    "dd = {k:v for k,v in d.items()}\n",
    "print(dd)\n",
    "\n",
    "# 加限制条件的字典生成式\n",
    "dd = {k:v for k,v in d.items() if v % 2 == 0}\n",
    "print(dd)"
   ]
  },
  {
   "cell_type": "markdown",
   "metadata": {},
   "source": [
    "# 字典相关函数"
   ]
  },
  {
   "cell_type": "code",
   "execution_count": 58,
   "metadata": {},
   "outputs": [
    {
     "name": "stdout",
     "output_type": "stream",
     "text": [
      "{'one': 1, 'two': 2, 'three': 3}\n"
     ]
    }
   ],
   "source": [
    "# 调用函数：len, max, min, dict\n",
    "# str(字典)：返回字典的字符串格式\n",
    "d = {\"one\":1, \"two\":2, \"three\":3}\n",
    "print(str(d))"
   ]
  },
  {
   "cell_type": "code",
   "execution_count": 59,
   "metadata": {
    "scrolled": true
   },
   "outputs": [
    {
     "name": "stdout",
     "output_type": "stream",
     "text": [
      "<class 'dict_items'>\n",
      "dict_items([('one', 1), ('two', 2), ('three', 3)])\n"
     ]
    }
   ],
   "source": [
    "# clear:清空字典\n",
    "# items：返回字典的键值对组成的元组格式\n",
    "\n",
    "d = {\"one\":1, \"two\":2, \"three\":3}\n",
    "i = d.items()\n",
    "print(type(i))\n",
    "print(i)"
   ]
  },
  {
   "cell_type": "code",
   "execution_count": 60,
   "metadata": {},
   "outputs": [
    {
     "name": "stdout",
     "output_type": "stream",
     "text": [
      "<class 'dict_keys'>\n",
      "dict_keys(['one', 'two', 'three'])\n"
     ]
    }
   ],
   "source": [
    "# keys:返回字典的键组成的一个结构\n",
    "k = d.keys()\n",
    "print(type(k))\n",
    "print(k)"
   ]
  },
  {
   "cell_type": "code",
   "execution_count": 61,
   "metadata": {},
   "outputs": [
    {
     "name": "stdout",
     "output_type": "stream",
     "text": [
      "<class 'dict_values'>\n",
      "dict_values([1, 2, 3])\n"
     ]
    }
   ],
   "source": [
    "# values:同理，一个可迭代的结构\n",
    "v = d.values()\n",
    "print(type(v))\n",
    "print(v)"
   ]
  },
  {
   "cell_type": "code",
   "execution_count": 63,
   "metadata": {},
   "outputs": [
    {
     "name": "stdout",
     "output_type": "stream",
     "text": [
      "None\n",
      "1\n",
      "100\n"
     ]
    }
   ],
   "source": [
    "# get:根据制定键返回相应的值，好处是，可以设置默认值\n",
    "\n",
    "d = {\"one\":1, \"two\":2, \"three\":3}\n",
    "print(d.get(\"on333\"))\n",
    "\n",
    "# get默认值是None，可以设置\n",
    "print(d.get(\"one\", 100))\n",
    "print(d.get(\"on333\", 100))\n",
    "\n",
    "#print(d['on333'])"
   ]
  },
  {
   "cell_type": "code",
   "execution_count": 67,
   "metadata": {},
   "outputs": [
    {
     "name": "stdout",
     "output_type": "stream",
     "text": [
      "{'enis': 2, 'zwei': 2, 'drei': 2}\n",
      "{'enis': '2', 'zwei': '2', 'drei': '2'}\n"
     ]
    }
   ],
   "source": [
    "# fromkeys:使用指定的序列作为键，使用一个值作为字典的所有的键的值\n",
    "l = [\"enis\", \"zwei\", \"drei\"]\n",
    "# 注意fromkeys两个参数的类型\n",
    "# 注意fromkeys的调用主体\n",
    "d = dict.fromkeys(l, 2)\n",
    "print(d)\n",
    "d = dict.fromkeys(l, '2')\n",
    "print(d)"
   ]
  }
 ],
 "metadata": {
  "kernelspec": {
   "display_name": "Python 3",
   "language": "python",
   "name": "python3"
  },
  "language_info": {
   "codemirror_mode": {
    "name": "ipython",
    "version": 3
   },
   "file_extension": ".py",
   "mimetype": "text/x-python",
   "name": "python",
   "nbconvert_exporter": "python",
   "pygments_lexer": "ipython3",
   "version": "3.6.3"
  }
 },
 "nbformat": 4,
 "nbformat_minor": 2
}
