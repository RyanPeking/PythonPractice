{
 "cells": [
  {
   "cell_type": "markdown",
   "metadata": {},
   "source": [
    "### 菜单\n",
    "### 1.普通菜单\n",
    "- 第一个Menu类定义的是parent\n",
    "- add_command 添加菜单项，如果菜单是顶层菜单，则从左向右添加，否则就是下拉菜单\n",
    "    - label:指定菜单项名称\n",
    "    - command：点击后相应的调用函数\n",
    "    - acceletor：快捷键\n",
    "    - underline：指定是否菜单信息下有横线\n",
    "    - menu：属性指定使用哪一个作为顶级菜单"
   ]
  },
  {
   "cell_type": "code",
   "execution_count": 1,
   "metadata": {
    "collapsed": true
   },
   "outputs": [],
   "source": [
    "# 普通菜单的代码\n"
   ]
  },
  {
   "cell_type": "markdown",
   "metadata": {},
   "source": [
    "### 级联菜单\n",
    "- add_cascade:级联菜单，作用是引出后面的菜单\n",
    "- add_cascade的menu属性:指明把菜单级联到哪个菜单上\n",
    "- label:名称\n",
    "- 过程：\n",
    "    1. 建立menu实例\n",
    "    2. add_command\n",
    "    3. add_cascade"
   ]
  },
  {
   "cell_type": "markdown",
   "metadata": {},
   "source": [
    "### 弹出式菜单\n",
    "- 弹出菜单也叫上下文菜单\n",
    "- 实现的大致思路\n",
    "    1. 建立菜单并向菜单添加各种功能\n",
    "    2. 监听鼠标右键\n",
    "    3. 如果右键点击，则根据位置判断弹出\n",
    "    4. 调用Menu的pop方法\n",
    "- add_separator:添加分隔符"
   ]
  },
  {
   "cell_type": "code",
   "execution_count": 3,
   "metadata": {
    "collapsed": true
   },
   "outputs": [],
   "source": [
    "import tkinter\n",
    "\n",
    "def makeLabel():\n",
    "    global baseFrame\n",
    "    tkinter.Label(baseFrame, text=\"PHP是最好的编程语言，我用Python\").pack()\n",
    "\n",
    "baseFrame = tkinter.Tk()\n",
    "\n",
    "menubar = tkinter.Menu(baseFrame)\n",
    "for x in ['麻辣香菇', '气锅鸡', '东坡肘子']:\n",
    "    menubar.add_separator()\n",
    "    menubar.add_command(label=x)\n",
    "    \n",
    "menubar.add_command(label='重庆火锅', command=makeLabel)\n",
    "\n",
    "# 事件处理函数一定要至少有一个参数，且第一个参数表示的是系统事件\n",
    "def pop(event):\n",
    "    # 注意使用 event.x 和 event.x_root的区别 \n",
    "#     menubar.post(event.x？, event.y)\n",
    "    menubar.post(event.x_root, event.y_root)\n",
    "\n",
    "baseFrame.bind(\"<Button-3>\", pop)\n",
    "\n",
    "baseFrame.mainloop()"
   ]
  },
  {
   "cell_type": "markdown",
   "metadata": {},
   "source": [
    "### canvas画布\n",
    "- 画布：可以自由的在上面绘制图形的一个小舞台\n",
    "- 在画布上绘制对象，通常用create_xxxx，xxxx=对象类型，例如line，rectangle\n",
    "- \n"
   ]
  },
  {
   "cell_type": "code",
   "execution_count": 7,
   "metadata": {},
   "outputs": [],
   "source": [
    "# 简单画布\n",
    "import tkinter\n",
    "\n",
    "baseFrame = tkinter.Tk()\n",
    "\n",
    "cvs = tkinter.Canvas(baseFrame, width=300, height=200)\n",
    "cvs.pack()\n",
    "# 一条线需要两个点指明起始\n",
    "cvs.create_line(23,23, 190,234)\n",
    "cvs.create_text(56,67, text=\"i love python\")\n",
    "\n",
    "baseFrame.mainloop()\n"
   ]
  },
  {
   "cell_type": "code",
   "execution_count": null,
   "metadata": {
    "collapsed": true
   },
   "outputs": [],
   "source": [
    "import tkinter\n",
    "\n",
    "baseFrame = tkinter.Tk()\n",
    "\n",
    "def btnClick(event):\n",
    "    global w\n",
    "    w.move"
   ]
  }
 ],
 "metadata": {
  "kernelspec": {
   "display_name": "Python 3",
   "language": "python",
   "name": "python3"
  },
  "language_info": {
   "codemirror_mode": {
    "name": "ipython",
    "version": 3
   },
   "file_extension": ".py",
   "mimetype": "text/x-python",
   "name": "python",
   "nbconvert_exporter": "python",
   "pygments_lexer": "ipython3",
   "version": "3.6.3"
  }
 },
 "nbformat": 4,
 "nbformat_minor": 2
}
