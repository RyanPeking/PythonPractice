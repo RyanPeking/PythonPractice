{
 "cells": [
  {
   "cell_type": "markdown",
   "metadata": {},
   "source": [
    "# 异常\n",
    "- 广义上的错误分为错误和异常\n",
    "- 错误指的是可以认为避免\n",
    "- 异常是指在语法逻辑正确的前提下，出现的问题\n",
    "- 在python里，异常是一个类，可以处理和使用"
   ]
  },
  {
   "cell_type": "markdown",
   "metadata": {},
   "source": [
    "# 异常处理\n",
    "- 不能保证程序永远正确运行\n",
    "- 但是，必须保证程序在最坏的情况下得到的问题被妥善处理\n",
    "- python的异常处理模块全部语法为      \n",
    "        \n",
    "        try:\n",
    "        except:\n",
    "        else:\n",
    "        finally:\n",
    "        \n",
    "- 流程\n",
    "    1.执行try下面的语句\n",
    "    2.异常执行except\n",
    "    3.没有异常，执行else\n",
    "    4.finally都要执行"
   ]
  },
  {
   "cell_type": "code",
   "execution_count": 2,
   "metadata": {},
   "outputs": [
    {
     "name": "stdout",
     "output_type": "stream",
     "text": [
      "Plz input your numberdfhjha\n",
      "我也不知道就出错了\n",
      "invalid literal for int() with base 10: 'dfhjha'\n",
      "hahha\n"
     ]
    }
   ],
   "source": [
    "# 简单异常案例\n",
    "try:\n",
    "    num = int(input(\"Plz input your number\"))\n",
    "    rst = 100/num\n",
    "    print(\"计算结果是：{0}\".format(rst))\n",
    "# 捕获异常后，把异常实例化，出错信息会在实例里\n",
    "# 注意以下写法\n",
    "# 以下语句是捕获ZeroDivisionError异常并实例化\n",
    "# 如果是多种error的情况\n",
    "# 需要把越具体的错误，越往前放\n",
    "# 在异常类继承关系中，越是子类的异常，越要往前放，越是父类的异常，越要往后放\n",
    "\n",
    "# 在处理异常的时候，一旦拦截到某一个异常，则不再继续往下查看，直接进行下一个代码，\n",
    "# 即有finally则执行finally语句块，否则就执行下一个大语句\n",
    "except ZeroDivisionError as e:\n",
    "    print(\"gun\")\n",
    "    print(e)\n",
    "    exit()\n",
    "except NameError as e:\n",
    "    print(\"名字起错了\")\n",
    "    print(e)\n",
    "    exit()\n",
    "except AttributeError as e:\n",
    "    print(\"好像属性有问题\")\n",
    "    print(e)\n",
    "    exit()\n",
    "# 所有异常都是继承自Exception\n",
    "# 如果写下下面这句话，任何异常都会拦截住\n",
    "# 而且，下面这句话一定是最后一个exception\n",
    "except Exception as e:\n",
    "    print(\"我也不知道就出错了\")\n",
    "    print(e)\n",
    "    \n",
    "print(\"hahha\")\n",
    "    \n",
    "# 作业：为什么我们可以直接打印出实例e，此时实例e应该实现了哪个函数"
   ]
  },
  {
   "cell_type": "markdown",
   "metadata": {},
   "source": [
    "# 用户手动引发异常\n",
    "- 当某些情况，用户希望自己引发一个异常的时候，可以使用\n",
    "- raise关键字来引发异常"
   ]
  },
  {
   "cell_type": "code",
   "execution_count": 1,
   "metadata": {},
   "outputs": [
    {
     "name": "stdout",
     "output_type": "stream",
     "text": [
      "我爱曦曦\n",
      "3.14\n",
      "ValueError\n",
      "error message\n",
      "i be there\n"
     ]
    }
   ],
   "source": [
    "# raise案例\n",
    "try:\n",
    "    print(\"我爱曦曦\")\n",
    "    print(3.14)\n",
    "    # 手动引发一个异常\n",
    "    # 注意语法：raise ErroeClassName\n",
    "    raise ValueError(\"error message\")\n",
    "    print(\"not finished\")\n",
    "except NameError as e:\n",
    "    print(e)\n",
    "except ValueError as e:\n",
    "    print(\"ValueError\")\n",
    "    print(e)\n",
    "except Exception as e:\n",
    "    print(e)\n",
    "finally:\n",
    "    print(\"i be there\")"
   ]
  },
  {
   "cell_type": "code",
   "execution_count": 9,
   "metadata": {},
   "outputs": [
    {
     "name": "stdout",
     "output_type": "stream",
     "text": [
      "hahah\n",
      "我爱曦曦\n",
      "3.14\n",
      "ValueError\n",
      "\n",
      "i be there\n"
     ]
    }
   ],
   "source": [
    "# raise案例-2\n",
    "# 自己定义异常\n",
    "# 需要注意：自定义异常必须是系统异常的子类\n",
    "class ShunError(ValueError):\n",
    "    pass\n",
    "\n",
    "try:\n",
    "    print(\"我爱曦曦\")\n",
    "    print(3.14)\n",
    "    # 手动引发一个异常\n",
    "    # 注意语法：raise ErroeClassName\n",
    "    raise ShunError\n",
    "    print(\"not finished\")\n",
    "except NameError as e:\n",
    "    print(e)\n",
    "except ValueError as e:\n",
    "    print(\"ValueError\")\n",
    "    print(e)\n",
    "except Exception as e:\n",
    "    print(e)\n",
    "finally:\n",
    "    print(\"i be there\")"
   ]
  },
  {
   "cell_type": "code",
   "execution_count": 13,
   "metadata": {},
   "outputs": [
    {
     "name": "stdout",
     "output_type": "stream",
     "text": [
      "Plz input your number1\n",
      "计算结果是：100.0\n",
      "No EXception\n",
      "wofa\n"
     ]
    }
   ],
   "source": [
    "# else语句案例\n",
    "\n",
    "try:\n",
    "    num = int(input(\"Plz input your number\"))\n",
    "    rst = 100/num\n",
    "    print(\"计算结果是：{0}\".format(rst))\n",
    "except Exception as e:\n",
    "    print(e)\n",
    "else:\n",
    "    print(\"No EXception\")\n",
    "finally:\n",
    "    print(\"wofa\")"
   ]
  },
  {
   "cell_type": "markdown",
   "metadata": {},
   "source": [
    "# 关于自定义异常\n",
    "- 只要是raise异常，则推荐自定义异常\n",
    "- 在自定义异常的时候，一般包含以下内容：\n",
    "    - 自定义发生异常的异常代码\n",
    "    - 自定义发生异常后的问题提示\n",
    "    - 自定义发生异常的行数\n",
    "- 最终的目的是，一旦发生异常，方便程序员快速定位错误现场"
   ]
  },
  {
   "cell_type": "code",
   "execution_count": null,
   "metadata": {
    "collapsed": true
   },
   "outputs": [],
   "source": []
  }
 ],
 "metadata": {
  "kernelspec": {
   "display_name": "Python 3",
   "language": "python",
   "name": "python3"
  },
  "language_info": {
   "codemirror_mode": {
    "name": "ipython",
    "version": 3
   },
   "file_extension": ".py",
   "mimetype": "text/x-python",
   "name": "python",
   "nbconvert_exporter": "python",
   "pygments_lexer": "ipython3",
   "version": "3.6.3"
  }
 },
 "nbformat": 4,
 "nbformat_minor": 2
}
